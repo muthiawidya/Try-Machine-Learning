{
  "nbformat": 4,
  "nbformat_minor": 0,
  "metadata": {
    "colab": {
      "name": "Salinan Cabutlah_Contoh.ipynb",
      "provenance": [],
      "authorship_tag": "ABX9TyNM2dzOqzbnFOMY2XJIFP9j",
      "include_colab_link": true
    },
    "kernelspec": {
      "name": "python3",
      "display_name": "Python 3"
    },
    "language_info": {
      "name": "python"
    }
  },
  "cells": [
    {
      "cell_type": "markdown",
      "metadata": {
        "id": "view-in-github",
        "colab_type": "text"
      },
      "source": [
        "<a href=\"https://colab.research.google.com/github/muthiawidya/Try-Machine-Learning/blob/main/Salinan_Cabutlah_Contoh.ipynb\" target=\"_parent\"><img src=\"https://colab.research.google.com/assets/colab-badge.svg\" alt=\"Open In Colab\"/></a>"
      ]
    },
    {
      "cell_type": "code",
      "metadata": {
        "id": "jg4i1LPNK_GT"
      },
      "source": [
        "import pandas as pd\n",
        "import numpy as np\n",
        "import matplotlib.pyplot as plt\n",
        "from sklearn.cluster import KMeans\n",
        "import seaborn as sns; sns.set()\n",
        "import csv"
      ],
      "execution_count": null,
      "outputs": []
    },
    {
      "cell_type": "code",
      "metadata": {
        "colab": {
          "base_uri": "https://localhost:8080/",
          "height": 204
        },
        "id": "-9JD0Im9XZea",
        "outputId": "ab885475-4687-451b-c3a0-89cf434732df"
      },
      "source": [
        "df = pd.read_csv('/content/aaa.csv')\n",
        "df.head()"
      ],
      "execution_count": null,
      "outputs": [
        {
          "output_type": "execute_result",
          "data": {
            "text/html": [
              "<div>\n",
              "<style scoped>\n",
              "    .dataframe tbody tr th:only-of-type {\n",
              "        vertical-align: middle;\n",
              "    }\n",
              "\n",
              "    .dataframe tbody tr th {\n",
              "        vertical-align: top;\n",
              "    }\n",
              "\n",
              "    .dataframe thead th {\n",
              "        text-align: right;\n",
              "    }\n",
              "</style>\n",
              "<table border=\"1\" class=\"dataframe\">\n",
              "  <thead>\n",
              "    <tr style=\"text-align: right;\">\n",
              "      <th></th>\n",
              "      <th>index</th>\n",
              "      <th>nama</th>\n",
              "      <th>vote_average</th>\n",
              "      <th>vote_count</th>\n",
              "      <th>type</th>\n",
              "      <th>htm_weekday</th>\n",
              "      <th>htm_weekend</th>\n",
              "      <th>latitude</th>\n",
              "      <th>longitude</th>\n",
              "      <th>description</th>\n",
              "    </tr>\n",
              "  </thead>\n",
              "  <tbody>\n",
              "    <tr>\n",
              "      <th>0</th>\n",
              "      <td>0</td>\n",
              "      <td>Candi Borobudur</td>\n",
              "      <td>4.7</td>\n",
              "      <td>81922</td>\n",
              "      <td>sejarah</td>\n",
              "      <td>50000.0</td>\n",
              "      <td>NaN</td>\n",
              "      <td>-7.607087</td>\n",
              "      <td>110.203623</td>\n",
              "      <td>Candi yang pernah masuk sebagai salah satu dar...</td>\n",
              "    </tr>\n",
              "    <tr>\n",
              "      <th>1</th>\n",
              "      <td>1</td>\n",
              "      <td>Candi Prambanan</td>\n",
              "      <td>4.7</td>\n",
              "      <td>71751</td>\n",
              "      <td>sejarah</td>\n",
              "      <td>50000.0</td>\n",
              "      <td>NaN</td>\n",
              "      <td>-7.751835</td>\n",
              "      <td>110.491532</td>\n",
              "      <td>Candi Prambanan adalah kompleks candi Hindu te...</td>\n",
              "    </tr>\n",
              "    <tr>\n",
              "      <th>2</th>\n",
              "      <td>2</td>\n",
              "      <td>Tebing Breksi</td>\n",
              "      <td>4.4</td>\n",
              "      <td>51431</td>\n",
              "      <td>alam</td>\n",
              "      <td>10000.0</td>\n",
              "      <td>NaN</td>\n",
              "      <td>-7.781477</td>\n",
              "      <td>110.504576</td>\n",
              "      <td>Tebing Breksi merupakan tempat wisata yang ber...</td>\n",
              "    </tr>\n",
              "    <tr>\n",
              "      <th>3</th>\n",
              "      <td>3</td>\n",
              "      <td>Gembira Loka Zoo</td>\n",
              "      <td>4.5</td>\n",
              "      <td>36337</td>\n",
              "      <td>buatan</td>\n",
              "      <td>20000.0</td>\n",
              "      <td>25000.0</td>\n",
              "      <td>-7.806234</td>\n",
              "      <td>110.396798</td>\n",
              "      <td>Gambira Loka adalah kebun binatang yang berada...</td>\n",
              "    </tr>\n",
              "    <tr>\n",
              "      <th>4</th>\n",
              "      <td>4</td>\n",
              "      <td>The Palace of Yogyakarta (Keraton Yogyakarta)</td>\n",
              "      <td>4.6</td>\n",
              "      <td>30091</td>\n",
              "      <td>sejarah</td>\n",
              "      <td>8000.0</td>\n",
              "      <td>NaN</td>\n",
              "      <td>-7.805284</td>\n",
              "      <td>110.364203</td>\n",
              "      <td>Kompleks keraton merupakan museum yang menyimp...</td>\n",
              "    </tr>\n",
              "  </tbody>\n",
              "</table>\n",
              "</div>"
            ],
            "text/plain": [
              "   index  ...                                        description\n",
              "0      0  ...  Candi yang pernah masuk sebagai salah satu dar...\n",
              "1      1  ...  Candi Prambanan adalah kompleks candi Hindu te...\n",
              "2      2  ...  Tebing Breksi merupakan tempat wisata yang ber...\n",
              "3      3  ...  Gambira Loka adalah kebun binatang yang berada...\n",
              "4      4  ...  Kompleks keraton merupakan museum yang menyimp...\n",
              "\n",
              "[5 rows x 10 columns]"
            ]
          },
          "metadata": {
            "tags": []
          },
          "execution_count": 20
        }
      ]
    },
    {
      "cell_type": "code",
      "metadata": {
        "colab": {
          "base_uri": "https://localhost:8080/"
        },
        "id": "mT45XkSdZIxN",
        "outputId": "6d08928c-c104-44bb-b667-7cbb7c9fe64f"
      },
      "source": [
        "df.isnull().sum().sort_values(ascending=False).head()"
      ],
      "execution_count": null,
      "outputs": [
        {
          "output_type": "execute_result",
          "data": {
            "text/plain": [
              "htm_weekend    40\n",
              "htm_weekday     5\n",
              "description     0\n",
              "longitude       0\n",
              "latitude        0\n",
              "dtype: int64"
            ]
          },
          "metadata": {
            "tags": []
          },
          "execution_count": 21
        }
      ]
    },
    {
      "cell_type": "code",
      "metadata": {
        "colab": {
          "base_uri": "https://localhost:8080/",
          "height": 204
        },
        "id": "JxNSYZkmcj-S",
        "outputId": "f789ed08-12df-4bb3-949b-27e8b9d892ef"
      },
      "source": [
        "X=df.loc[:,['nama','latitude','longitude']]\n",
        "X.head()"
      ],
      "execution_count": null,
      "outputs": [
        {
          "output_type": "execute_result",
          "data": {
            "text/html": [
              "<div>\n",
              "<style scoped>\n",
              "    .dataframe tbody tr th:only-of-type {\n",
              "        vertical-align: middle;\n",
              "    }\n",
              "\n",
              "    .dataframe tbody tr th {\n",
              "        vertical-align: top;\n",
              "    }\n",
              "\n",
              "    .dataframe thead th {\n",
              "        text-align: right;\n",
              "    }\n",
              "</style>\n",
              "<table border=\"1\" class=\"dataframe\">\n",
              "  <thead>\n",
              "    <tr style=\"text-align: right;\">\n",
              "      <th></th>\n",
              "      <th>nama</th>\n",
              "      <th>latitude</th>\n",
              "      <th>longitude</th>\n",
              "    </tr>\n",
              "  </thead>\n",
              "  <tbody>\n",
              "    <tr>\n",
              "      <th>0</th>\n",
              "      <td>Candi Borobudur</td>\n",
              "      <td>-7.607087</td>\n",
              "      <td>110.203623</td>\n",
              "    </tr>\n",
              "    <tr>\n",
              "      <th>1</th>\n",
              "      <td>Candi Prambanan</td>\n",
              "      <td>-7.751835</td>\n",
              "      <td>110.491532</td>\n",
              "    </tr>\n",
              "    <tr>\n",
              "      <th>2</th>\n",
              "      <td>Tebing Breksi</td>\n",
              "      <td>-7.781477</td>\n",
              "      <td>110.504576</td>\n",
              "    </tr>\n",
              "    <tr>\n",
              "      <th>3</th>\n",
              "      <td>Gembira Loka Zoo</td>\n",
              "      <td>-7.806234</td>\n",
              "      <td>110.396798</td>\n",
              "    </tr>\n",
              "    <tr>\n",
              "      <th>4</th>\n",
              "      <td>The Palace of Yogyakarta (Keraton Yogyakarta)</td>\n",
              "      <td>-7.805284</td>\n",
              "      <td>110.364203</td>\n",
              "    </tr>\n",
              "  </tbody>\n",
              "</table>\n",
              "</div>"
            ],
            "text/plain": [
              "                                            nama  latitude   longitude\n",
              "0                                Candi Borobudur -7.607087  110.203623\n",
              "1                                Candi Prambanan -7.751835  110.491532\n",
              "2                                  Tebing Breksi -7.781477  110.504576\n",
              "3                               Gembira Loka Zoo -7.806234  110.396798\n",
              "4  The Palace of Yogyakarta (Keraton Yogyakarta) -7.805284  110.364203"
            ]
          },
          "metadata": {
            "tags": []
          },
          "execution_count": 22
        }
      ]
    },
    {
      "cell_type": "code",
      "metadata": {
        "colab": {
          "base_uri": "https://localhost:8080/",
          "height": 301
        },
        "id": "GYhMacJlbLcE",
        "outputId": "d42a10ca-5ed0-47c0-f8e6-660e0467136e"
      },
      "source": [
        "K_clusters = range(1,10)\n",
        "kmeans = [KMeans(n_clusters=i) for i in K_clusters]\n",
        "Y_axis = df[['latitude']]\n",
        "X_axis = df[['longitude']]\n",
        "score = [kmeans[i].fit(Y_axis).score(Y_axis) for i in range(len(kmeans))]\n",
        "# Visualize\n",
        "plt.plot(K_clusters, score)\n",
        "plt.xlabel('Number of Clusters')\n",
        "plt.ylabel('Score')\n",
        "plt.title('Elbow Curve')\n",
        "plt.show()"
      ],
      "execution_count": null,
      "outputs": [
        {
          "output_type": "display_data",
          "data": {
            "image/png": "[encoded data removed]",
            "text/plain": [
              "<Figure size 432x288 with 1 Axes>"
            ]
          },
          "metadata": {
            "tags": []
          }
        }
      ]
    },
    {
      "cell_type": "code",
      "metadata": {
        "colab": {
          "base_uri": "https://localhost:8080/",
          "height": 359
        },
        "id": "pLNsou0gdo51",
        "outputId": "57dc48af-4bbf-4618-99c0-7bc0aaf38032"
      },
      "source": [
        "kmeans = KMeans(n_clusters = 3, init ='k-means++')\n",
        "kmeans.fit(X[X.columns[1:3]]) # Compute k-means clustering.\n",
        "X['cluster_label'] = kmeans.fit_predict(X[X.columns[1:3]])\n",
        "centers = kmeans.cluster_centers_ # Coordinates of cluster centers.\n",
        "labels = kmeans.predict(X[X.columns[1:3]]) # Labels of each point\n",
        "X.head(10)"
      ],
      "execution_count": null,
      "outputs": [
        {
          "output_type": "execute_result",
          "data": {
            "text/html": [
              "<div>\n",
              "<style scoped>\n",
              "    .dataframe tbody tr th:only-of-type {\n",
              "        vertical-align: middle;\n",
              "    }\n",
              "\n",
              "    .dataframe tbody tr th {\n",
              "        vertical-align: top;\n",
              "    }\n",
              "\n",
              "    .dataframe thead th {\n",
              "        text-align: right;\n",
              "    }\n",
              "</style>\n",
              "<table border=\"1\" class=\"dataframe\">\n",
              "  <thead>\n",
              "    <tr style=\"text-align: right;\">\n",
              "      <th></th>\n",
              "      <th>nama</th>\n",
              "      <th>latitude</th>\n",
              "      <th>longitude</th>\n",
              "      <th>cluster_label</th>\n",
              "    </tr>\n",
              "  </thead>\n",
              "  <tbody>\n",
              "    <tr>\n",
              "      <th>0</th>\n",
              "      <td>Candi Borobudur</td>\n",
              "      <td>-7.607087</td>\n",
              "      <td>110.203623</td>\n",
              "      <td>0</td>\n",
              "    </tr>\n",
              "    <tr>\n",
              "      <th>1</th>\n",
              "      <td>Candi Prambanan</td>\n",
              "      <td>-7.751835</td>\n",
              "      <td>110.491532</td>\n",
              "      <td>0</td>\n",
              "    </tr>\n",
              "    <tr>\n",
              "      <th>2</th>\n",
              "      <td>Tebing Breksi</td>\n",
              "      <td>-7.781477</td>\n",
              "      <td>110.504576</td>\n",
              "      <td>0</td>\n",
              "    </tr>\n",
              "    <tr>\n",
              "      <th>3</th>\n",
              "      <td>Gembira Loka Zoo</td>\n",
              "      <td>-7.806234</td>\n",
              "      <td>110.396798</td>\n",
              "      <td>0</td>\n",
              "    </tr>\n",
              "    <tr>\n",
              "      <th>4</th>\n",
              "      <td>The Palace of Yogyakarta (Keraton Yogyakarta)</td>\n",
              "      <td>-7.805284</td>\n",
              "      <td>110.364203</td>\n",
              "      <td>0</td>\n",
              "    </tr>\n",
              "    <tr>\n",
              "      <th>5</th>\n",
              "      <td>Taman Sari</td>\n",
              "      <td>-7.809833</td>\n",
              "      <td>110.359512</td>\n",
              "      <td>0</td>\n",
              "    </tr>\n",
              "    <tr>\n",
              "      <th>6</th>\n",
              "      <td>Hutan Pinus Mangunan Dlingo</td>\n",
              "      <td>-7.926784</td>\n",
              "      <td>110.431997</td>\n",
              "      <td>0</td>\n",
              "    </tr>\n",
              "    <tr>\n",
              "      <th>7</th>\n",
              "      <td>Jogja Bay</td>\n",
              "      <td>-7.747846</td>\n",
              "      <td>110.418875</td>\n",
              "      <td>0</td>\n",
              "    </tr>\n",
              "    <tr>\n",
              "      <th>8</th>\n",
              "      <td>The World Landmarks - Merapi Park Yogyakarta</td>\n",
              "      <td>-7.620905</td>\n",
              "      <td>110.421627</td>\n",
              "      <td>0</td>\n",
              "    </tr>\n",
              "    <tr>\n",
              "      <th>9</th>\n",
              "      <td>The Lost World Castle</td>\n",
              "      <td>-7.604165</td>\n",
              "      <td>110.451004</td>\n",
              "      <td>0</td>\n",
              "    </tr>\n",
              "  </tbody>\n",
              "</table>\n",
              "</div>"
            ],
            "text/plain": [
              "                                            nama  ...  cluster_label\n",
              "0                                Candi Borobudur  ...              0\n",
              "1                                Candi Prambanan  ...              0\n",
              "2                                  Tebing Breksi  ...              0\n",
              "3                               Gembira Loka Zoo  ...              0\n",
              "4  The Palace of Yogyakarta (Keraton Yogyakarta)  ...              0\n",
              "5                                     Taman Sari  ...              0\n",
              "6                    Hutan Pinus Mangunan Dlingo  ...              0\n",
              "7                                      Jogja Bay  ...              0\n",
              "8   The World Landmarks - Merapi Park Yogyakarta  ...              0\n",
              "9                          The Lost World Castle  ...              0\n",
              "\n",
              "[10 rows x 4 columns]"
            ]
          },
          "metadata": {
            "tags": []
          },
          "execution_count": 24
        }
      ]
    },
    {
      "cell_type": "code",
      "metadata": {
        "id": "nmk1CzMcduRn",
        "outputId": "4cb5b6dd-8c4b-4f43-e5bf-145e7d485c81",
        "colab": {
          "base_uri": "https://localhost:8080/",
          "height": 275
        }
      },
      "source": [
        "X.plot.scatter(x = 'latitude', y = 'longitude', c=labels, s=50, cmap='viridis')\n",
        "plt.scatter(centers[:, 0], centers[:, 1], c='black', s=200, alpha=0.5)"
      ],
      "execution_count": null,
      "outputs": [
        {
          "output_type": "execute_result",
          "data": {
            "text/plain": [
              "<matplotlib.collections.PathCollection at 0x7f14c3d50450>"
            ]
          },
          "metadata": {
            "tags": []
          },
          "execution_count": 25
        },
        {
          "output_type": "display_data",
          "data": {
            "image/png": "[encoded data removed]",
            "text/plain": [
              "<Figure size 432x288 with 2 Axes>"
            ]
          },
          "metadata": {
            "tags": []
          }
        }
      ]
    }
  ]
}