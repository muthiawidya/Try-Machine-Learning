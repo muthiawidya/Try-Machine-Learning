{
  "nbformat": 4,
  "nbformat_minor": 0,
  "metadata": {
    "colab": {
      "name": "Cabutlah_Contoh.ipynb",
      "provenance": [],
      "collapsed_sections": [],
      "authorship_tag": "ABX9TyNsoq1mkhXeVMeaQ9HtKxEP",
      "include_colab_link": true
    },
    "kernelspec": {
      "name": "python3",
      "display_name": "Python 3"
    },
    "language_info": {
      "name": "python"
    }
  },
  "cells": [
    {
      "cell_type": "markdown",
      "metadata": {
        "id": "view-in-github",
        "colab_type": "text"
      },
      "source": [
        "<a href=\"https://colab.research.google.com/github/muthiawidya/Try-Machine-Learning/blob/main/Cabutlah_Contoh.ipynb\" target=\"_parent\"><img src=\"https://colab.research.google.com/assets/colab-badge.svg\" alt=\"Open In Colab\"/></a>"
      ]
    },
    {
      "cell_type": "code",
      "metadata": {
        "id": "jg4i1LPNK_GT"
      },
      "source": [
        "import pandas as pd\n",
        "import numpy as np\n",
        "import matplotlib.pyplot as plt\n",
        "from sklearn.cluster import KMeans\n",
        "import seaborn as sns; sns.set()\n",
        "import csv\n",
        "import folium\n",
        "import geopy"
      ],
      "execution_count": null,
      "outputs": []
    },
    {
      "cell_type": "code",
      "metadata": {
        "id": "-9JD0Im9XZea",
        "colab": {
          "base_uri": "https://localhost:8080/",
          "height": 198
        },
        "outputId": "b9c2824c-88ad-469e-9775-0c719b730031"
      },
      "source": [
        "df = pd.read_csv('/content/Restaurant.csv')\n",
        "\n",
        "df.head()"
      ],
      "execution_count": null,
      "outputs": [
        {
          "output_type": "execute_result",
          "data": {
            "text/html": [
              "<div>\n",
              "<style scoped>\n",
              "    .dataframe tbody tr th:only-of-type {\n",
              "        vertical-align: middle;\n",
              "    }\n",
              "\n",
              "    .dataframe tbody tr th {\n",
              "        vertical-align: top;\n",
              "    }\n",
              "\n",
              "    .dataframe thead th {\n",
              "        text-align: right;\n",
              "    }\n",
              "</style>\n",
              "<table border=\"1\" class=\"dataframe\">\n",
              "  <thead>\n",
              "    <tr style=\"text-align: right;\">\n",
              "      <th></th>\n",
              "      <th>nama</th>\n",
              "      <th>type</th>\n",
              "      <th>latitude</th>\n",
              "      <th>longitude</th>\n",
              "    </tr>\n",
              "  </thead>\n",
              "  <tbody>\n",
              "    <tr>\n",
              "      <th>0</th>\n",
              "      <td>Warung pisang Gapit</td>\n",
              "      <td>Restaurant</td>\n",
              "      <td>-2.521507</td>\n",
              "      <td>112.968045</td>\n",
              "    </tr>\n",
              "    <tr>\n",
              "      <th>1</th>\n",
              "      <td>Warung terapung pisang gapit</td>\n",
              "      <td>Restaurant</td>\n",
              "      <td>-2.521463</td>\n",
              "      <td>112.967875</td>\n",
              "    </tr>\n",
              "    <tr>\n",
              "      <th>2</th>\n",
              "      <td>Warung Pencok LINA</td>\n",
              "      <td>Restaurant</td>\n",
              "      <td>-2.520830</td>\n",
              "      <td>112.968474</td>\n",
              "    </tr>\n",
              "    <tr>\n",
              "      <th>3</th>\n",
              "      <td>D'Layar Resto SAMPIT</td>\n",
              "      <td>Restaurant</td>\n",
              "      <td>-2.518627</td>\n",
              "      <td>112.970164</td>\n",
              "    </tr>\n",
              "    <tr>\n",
              "      <th>4</th>\n",
              "      <td>Rumah makan batu mandi sampit kotawaringin timur</td>\n",
              "      <td>Restaurant</td>\n",
              "      <td>-2.518115</td>\n",
              "      <td>112.970210</td>\n",
              "    </tr>\n",
              "  </tbody>\n",
              "</table>\n",
              "</div>"
            ],
            "text/plain": [
              "                                               nama  ...   longitude\n",
              "0                               Warung pisang Gapit  ...  112.968045\n",
              "1                      Warung terapung pisang gapit  ...  112.967875\n",
              "2                                Warung Pencok LINA  ...  112.968474\n",
              "3                              D'Layar Resto SAMPIT  ...  112.970164\n",
              "4  Rumah makan batu mandi sampit kotawaringin timur  ...  112.970210\n",
              "\n",
              "[5 rows x 4 columns]"
            ]
          },
          "metadata": {
            "tags": []
          },
          "execution_count": 20
        }
      ]
    },
    {
      "cell_type": "code",
      "metadata": {
        "id": "mT45XkSdZIxN",
        "colab": {
          "base_uri": "https://localhost:8080/"
        },
        "outputId": "78aefa2e-cf60-4671-9d9e-3f83629452ab"
      },
      "source": [
        "df.isnull().sum().sort_values(ascending=False).head()"
      ],
      "execution_count": null,
      "outputs": [
        {
          "output_type": "execute_result",
          "data": {
            "text/plain": [
              "longitude    0\n",
              "latitude     0\n",
              "type         0\n",
              "nama         0\n",
              "dtype: int64"
            ]
          },
          "metadata": {
            "tags": []
          },
          "execution_count": 14
        }
      ]
    },
    {
      "cell_type": "code",
      "metadata": {
        "id": "JxNSYZkmcj-S",
        "colab": {
          "base_uri": "https://localhost:8080/",
          "height": 198
        },
        "outputId": "b5503a4a-f892-473d-8f69-584f234abc0d"
      },
      "source": [
        "X=df.loc[:,['nama','latitude','longitude']]\n",
        "X.head()"
      ],
      "execution_count": null,
      "outputs": [
        {
          "output_type": "execute_result",
          "data": {
            "text/html": [
              "<div>\n",
              "<style scoped>\n",
              "    .dataframe tbody tr th:only-of-type {\n",
              "        vertical-align: middle;\n",
              "    }\n",
              "\n",
              "    .dataframe tbody tr th {\n",
              "        vertical-align: top;\n",
              "    }\n",
              "\n",
              "    .dataframe thead th {\n",
              "        text-align: right;\n",
              "    }\n",
              "</style>\n",
              "<table border=\"1\" class=\"dataframe\">\n",
              "  <thead>\n",
              "    <tr style=\"text-align: right;\">\n",
              "      <th></th>\n",
              "      <th>nama</th>\n",
              "      <th>latitude</th>\n",
              "      <th>longitude</th>\n",
              "    </tr>\n",
              "  </thead>\n",
              "  <tbody>\n",
              "    <tr>\n",
              "      <th>0</th>\n",
              "      <td>Warung pisang Gapit</td>\n",
              "      <td>-2.521507</td>\n",
              "      <td>112.968045</td>\n",
              "    </tr>\n",
              "    <tr>\n",
              "      <th>1</th>\n",
              "      <td>Warung terapung pisang gapit</td>\n",
              "      <td>-2.521463</td>\n",
              "      <td>112.967875</td>\n",
              "    </tr>\n",
              "    <tr>\n",
              "      <th>2</th>\n",
              "      <td>Warung Pencok LINA</td>\n",
              "      <td>-2.520830</td>\n",
              "      <td>112.968474</td>\n",
              "    </tr>\n",
              "    <tr>\n",
              "      <th>3</th>\n",
              "      <td>D'Layar Resto SAMPIT</td>\n",
              "      <td>-2.518627</td>\n",
              "      <td>112.970164</td>\n",
              "    </tr>\n",
              "    <tr>\n",
              "      <th>4</th>\n",
              "      <td>Rumah makan batu mandi sampit kotawaringin timur</td>\n",
              "      <td>-2.518115</td>\n",
              "      <td>112.970210</td>\n",
              "    </tr>\n",
              "  </tbody>\n",
              "</table>\n",
              "</div>"
            ],
            "text/plain": [
              "                                               nama  latitude   longitude\n",
              "0                               Warung pisang Gapit -2.521507  112.968045\n",
              "1                      Warung terapung pisang gapit -2.521463  112.967875\n",
              "2                                Warung Pencok LINA -2.520830  112.968474\n",
              "3                              D'Layar Resto SAMPIT -2.518627  112.970164\n",
              "4  Rumah makan batu mandi sampit kotawaringin timur -2.518115  112.970210"
            ]
          },
          "metadata": {
            "tags": []
          },
          "execution_count": 15
        }
      ]
    },
    {
      "cell_type": "code",
      "metadata": {
        "id": "GYhMacJlbLcE",
        "colab": {
          "base_uri": "https://localhost:8080/",
          "height": 301
        },
        "outputId": "758f6097-a992-4d2a-a2af-741110f6eebc"
      },
      "source": [
        "K_clusters = range(1,10)\n",
        "kmeans = [KMeans(n_clusters=i) for i in K_clusters]\n",
        "Y_axis = df[['latitude']]\n",
        "X_axis = df[['longitude']]\n",
        "score = [kmeans[i].fit(Y_axis).score(Y_axis) for i in range(len(kmeans))]\n",
        "\n",
        "plt.plot(K_clusters, score)\n",
        "plt.xlabel('Number of Clusters')\n",
        "plt.ylabel('Score')\n",
        "plt.title('Elbow Curve')\n",
        "plt.show()"
      ],
      "execution_count": null,
      "outputs": [
        {
          "output_type": "display_data",
          "data": {
            "image/png": "[encoded data removed]",
            "text/plain": [
              "<Figure size 432x288 with 1 Axes>"
            ]
          },
          "metadata": {
            "tags": []
          }
        }
      ]
    },
    {
      "cell_type": "code",
      "metadata": {
        "id": "pLNsou0gdo51",
        "colab": {
          "base_uri": "https://localhost:8080/",
          "height": 348
        },
        "outputId": "58b018d2-d8e4-4d9a-f2a0-683da1d790e0"
      },
      "source": [
        "kmeans = KMeans(n_clusters = 3, init ='k-means++')\n",
        "kmeans.fit(X[X.columns[1:3]]) \n",
        "X['cluster_label'] = kmeans.fit_predict(X[X.columns[1:3]])\n",
        "centers = kmeans.cluster_centers_ \n",
        "labels = kmeans.predict(X[X.columns[1:3]]) \n",
        "X.head(10)"
      ],
      "execution_count": null,
      "outputs": [
        {
          "output_type": "execute_result",
          "data": {
            "text/html": [
              "<div>\n",
              "<style scoped>\n",
              "    .dataframe tbody tr th:only-of-type {\n",
              "        vertical-align: middle;\n",
              "    }\n",
              "\n",
              "    .dataframe tbody tr th {\n",
              "        vertical-align: top;\n",
              "    }\n",
              "\n",
              "    .dataframe thead th {\n",
              "        text-align: right;\n",
              "    }\n",
              "</style>\n",
              "<table border=\"1\" class=\"dataframe\">\n",
              "  <thead>\n",
              "    <tr style=\"text-align: right;\">\n",
              "      <th></th>\n",
              "      <th>nama</th>\n",
              "      <th>latitude</th>\n",
              "      <th>longitude</th>\n",
              "      <th>cluster_label</th>\n",
              "    </tr>\n",
              "  </thead>\n",
              "  <tbody>\n",
              "    <tr>\n",
              "      <th>0</th>\n",
              "      <td>Warung pisang Gapit</td>\n",
              "      <td>-2.521507</td>\n",
              "      <td>112.968045</td>\n",
              "      <td>1</td>\n",
              "    </tr>\n",
              "    <tr>\n",
              "      <th>1</th>\n",
              "      <td>Warung terapung pisang gapit</td>\n",
              "      <td>-2.521463</td>\n",
              "      <td>112.967875</td>\n",
              "      <td>1</td>\n",
              "    </tr>\n",
              "    <tr>\n",
              "      <th>2</th>\n",
              "      <td>Warung Pencok LINA</td>\n",
              "      <td>-2.520830</td>\n",
              "      <td>112.968474</td>\n",
              "      <td>1</td>\n",
              "    </tr>\n",
              "    <tr>\n",
              "      <th>3</th>\n",
              "      <td>D'Layar Resto SAMPIT</td>\n",
              "      <td>-2.518627</td>\n",
              "      <td>112.970164</td>\n",
              "      <td>1</td>\n",
              "    </tr>\n",
              "    <tr>\n",
              "      <th>4</th>\n",
              "      <td>Rumah makan batu mandi sampit kotawaringin timur</td>\n",
              "      <td>-2.518115</td>\n",
              "      <td>112.970210</td>\n",
              "      <td>1</td>\n",
              "    </tr>\n",
              "    <tr>\n",
              "      <th>5</th>\n",
              "      <td>RM. Jolodong Ikan Bakar</td>\n",
              "      <td>-2.518024</td>\n",
              "      <td>112.970451</td>\n",
              "      <td>1</td>\n",
              "    </tr>\n",
              "    <tr>\n",
              "      <th>6</th>\n",
              "      <td>RM BATU MANDI</td>\n",
              "      <td>-2.517922</td>\n",
              "      <td>112.970247</td>\n",
              "      <td>1</td>\n",
              "    </tr>\n",
              "    <tr>\n",
              "      <th>7</th>\n",
              "      <td>Warung Makan Jolodong</td>\n",
              "      <td>-2.517863</td>\n",
              "      <td>112.970529</td>\n",
              "      <td>1</td>\n",
              "    </tr>\n",
              "    <tr>\n",
              "      <th>8</th>\n",
              "      <td>Dapur acil Titin</td>\n",
              "      <td>-2.517166</td>\n",
              "      <td>112.971028</td>\n",
              "      <td>1</td>\n",
              "    </tr>\n",
              "    <tr>\n",
              "      <th>9</th>\n",
              "      <td>Ayam Bakar Wong Solo</td>\n",
              "      <td>-2.539433</td>\n",
              "      <td>112.957959</td>\n",
              "      <td>0</td>\n",
              "    </tr>\n",
              "  </tbody>\n",
              "</table>\n",
              "</div>"
            ],
            "text/plain": [
              "                                               nama  ...  cluster_label\n",
              "0                               Warung pisang Gapit  ...              1\n",
              "1                      Warung terapung pisang gapit  ...              1\n",
              "2                                Warung Pencok LINA  ...              1\n",
              "3                              D'Layar Resto SAMPIT  ...              1\n",
              "4  Rumah makan batu mandi sampit kotawaringin timur  ...              1\n",
              "5                           RM. Jolodong Ikan Bakar  ...              1\n",
              "6                                     RM BATU MANDI  ...              1\n",
              "7                             Warung Makan Jolodong  ...              1\n",
              "8                                  Dapur acil Titin  ...              1\n",
              "9                              Ayam Bakar Wong Solo  ...              0\n",
              "\n",
              "[10 rows x 4 columns]"
            ]
          },
          "metadata": {
            "tags": []
          },
          "execution_count": 17
        }
      ]
    },
    {
      "cell_type": "code",
      "metadata": {
        "id": "nmk1CzMcduRn",
        "colab": {
          "base_uri": "https://localhost:8080/",
          "height": 283
        },
        "outputId": "5f3f46d7-fa34-455d-b21a-0a6088fd65d6"
      },
      "source": [
        "X.plot.scatter(x = 'latitude', y = 'longitude', c=labels, s=400, cmap='viridis')\n",
        "plt.scatter(centers[:, 0], centers[:, 1], c='black', s=200, alpha=0.5)"
      ],
      "execution_count": null,
      "outputs": [
        {
          "output_type": "execute_result",
          "data": {
            "text/plain": [
              "<matplotlib.collections.PathCollection at 0x7f77d4432e10>"
            ]
          },
          "metadata": {
            "tags": []
          },
          "execution_count": 18
        },
        {
          "output_type": "display_data",
          "data": {
            "image/png": "[encoded data removed]",
            "text/plain": [
              "<Figure size 432x288 with 2 Axes>"
            ]
          },
          "metadata": {
            "tags": []
          }
        }
      ]
    },
    {
      "cell_type": "code",
      "metadata": {
        "colab": {
          "base_uri": "https://localhost:8080/",
          "height": 244
        },
        "id": "EIZAXZG1l0fD",
        "outputId": "3635a526-4bc3-4934-c260-9d52a3ae68d1"
      },
      "source": [
        "type = \"Restaurant\"\n",
        "\n",
        "locator = geopy.geocoders.Nominatim(user_agent=\"MyCoder\")\n",
        "location = locator.geocode(type)\n",
        "print(location)\n",
        "\n",
        "location = [location.latitude, location.longitude]\n",
        "print(\"[lat, long]:\", location)"
      ],
      "execution_count": null,
      "outputs": [
        {
          "output_type": "error",
          "ename": "NameError",
          "evalue": "ignored",
          "traceback": [
            "\u001b[0;31m---------------------------------------------------------------------------\u001b[0m",
            "\u001b[0;31mNameError\u001b[0m                                 Traceback (most recent call last)",
            "\u001b[0;32m<ipython-input-1-7743629e3c27>\u001b[0m in \u001b[0;36m<module>\u001b[0;34m()\u001b[0m\n\u001b[1;32m      1\u001b[0m \u001b[0mtype\u001b[0m \u001b[0;34m=\u001b[0m \u001b[0;34m\"Restaurant\"\u001b[0m\u001b[0;34m\u001b[0m\u001b[0;34m\u001b[0m\u001b[0m\n\u001b[1;32m      2\u001b[0m \u001b[0;34m\u001b[0m\u001b[0m\n\u001b[0;32m----> 3\u001b[0;31m \u001b[0mlocator\u001b[0m \u001b[0;34m=\u001b[0m \u001b[0mgeopy\u001b[0m\u001b[0;34m.\u001b[0m\u001b[0mgeocoders\u001b[0m\u001b[0;34m.\u001b[0m\u001b[0mNominatim\u001b[0m\u001b[0;34m(\u001b[0m\u001b[0muser_agent\u001b[0m\u001b[0;34m=\u001b[0m\u001b[0;34m\"MyCoder\"\u001b[0m\u001b[0;34m)\u001b[0m\u001b[0;34m\u001b[0m\u001b[0;34m\u001b[0m\u001b[0m\n\u001b[0m\u001b[1;32m      4\u001b[0m \u001b[0mlocation\u001b[0m \u001b[0;34m=\u001b[0m \u001b[0mlocator\u001b[0m\u001b[0;34m.\u001b[0m\u001b[0mgeocode\u001b[0m\u001b[0;34m(\u001b[0m\u001b[0mtype\u001b[0m\u001b[0;34m)\u001b[0m\u001b[0;34m\u001b[0m\u001b[0;34m\u001b[0m\u001b[0m\n\u001b[1;32m      5\u001b[0m \u001b[0mprint\u001b[0m\u001b[0;34m(\u001b[0m\u001b[0mlocation\u001b[0m\u001b[0;34m)\u001b[0m\u001b[0;34m\u001b[0m\u001b[0;34m\u001b[0m\u001b[0m\n",
            "\u001b[0;31mNameError\u001b[0m: name 'geopy' is not defined"
          ]
        }
      ]
    }
  ]
}